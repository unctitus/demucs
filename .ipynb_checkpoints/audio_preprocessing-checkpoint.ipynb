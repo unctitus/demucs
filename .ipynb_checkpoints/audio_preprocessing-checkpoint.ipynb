{
 "cells": [
  {
   "cell_type": "code",
   "execution_count": 1,
   "id": "89d5f519-d6a4-47f2-a2ab-b5ac1f76f145",
   "metadata": {},
   "outputs": [
    {
     "data": {
      "text/plain": [
       "19169"
      ]
     },
     "execution_count": 1,
     "metadata": {},
     "output_type": "execute_result"
    }
   ],
   "source": [
    "from IPython.display import Audio\n",
    "import os\n",
    "from pathlib import Path\n",
    "i = 2\n",
    "audio_dir = Path('/nas/longleaf/home/tis/wd/V2Music/preprocessing/data/audio')\n",
    "audio_files = list(audio_dir.glob(\"*.m4a\")) + list(audio_dir.glob(\"*.webm\"))\n",
    "len(audio_files)\n",
    "#audios = os.listdir(audio_dir)\n",
    "#audio_src = os.path.join(audio_dir, audios[i])\n",
    "#Audio(audio_src)"
   ]
  },
  {
   "cell_type": "code",
   "execution_count": 5,
   "id": "68bfebae",
   "metadata": {},
   "outputs": [],
   "source": [
    "import os\n",
    "import math\n",
    "\n",
    "def get_filesize(file_path):\n",
    "    try:\n",
    "        size_bytes = os.path.getsize(file_path)\n",
    "    except OSError as e:\n",
    "        return f\"Error: {e}\"\n",
    "    \n",
    "    if size_bytes == 0:\n",
    "        return \"0 B\"\n",
    "\n",
    "    size_units = (\"B\", \"KB\", \"MB\", \"GB\", \"TB\", \"PB\")\n",
    "    unit_index = int(math.floor(math.log(size_bytes, 1024)))\n",
    "    power = math.pow(1024, unit_index)\n",
    "    size = round(size_bytes / power, 2)\n",
    "    \n",
    "    return f\"{size} {size_units[unit_index]}\""
   ]
  },
  {
   "cell_type": "code",
   "execution_count": 19,
   "id": "6c1be9d2",
   "metadata": {},
   "outputs": [
    {
     "name": "stdout",
     "output_type": "stream",
     "text": [
      "Bitrate (bps):\n",
      "  Minimum bitrate: 3766 bps (File: /nas/longleaf/home/tis/wd/V2Music/preprocessing/data/audio/6ZwjeJosWFw.webm)\n",
      "  Maximum bitrate: 388360 bps (File: /nas/longleaf/home/tis/wd/V2Music/preprocessing/data/audio/geDoEeQJlH0.m4a)\n",
      "\n",
      "Sample Rate (Hz):\n",
      "  Minimum sample rate: 44100 Hz (File: /nas/longleaf/home/tis/wd/V2Music/preprocessing/data/audio/--7Nv4RYjd8.m4a)\n",
      "  Maximum sample rate: 48000 Hz (File: /nas/longleaf/home/tis/wd/V2Music/preprocessing/data/audio/--foBg2jWzk.webm)\n"
     ]
    }
   ],
   "source": [
    "import subprocess\n",
    "from pathlib import Path\n",
    "\n",
    "def get_bitrate(file_path: Path) -> int:\n",
    "    \"\"\"\n",
    "    Use ffprobe to get the overall bitrate (in bits per second) from the file's format metadata.\n",
    "    Returns the bitrate as an integer, or -1 if not available.\n",
    "    \"\"\"\n",
    "    ffprobe_cmd = [\n",
    "        \"ffprobe\",\n",
    "        \"-v\", \"error\",\n",
    "        \"-show_entries\", \"format=bit_rate\",\n",
    "        \"-of\", \"default=noprint_wrappers=1:nokey=1\",\n",
    "        str(file_path)\n",
    "    ]\n",
    "    try:\n",
    "        output = subprocess.check_output(ffprobe_cmd, stderr=subprocess.DEVNULL).strip()\n",
    "        return int(output.decode(\"utf-8\"))\n",
    "    except subprocess.CalledProcessError:\n",
    "        return -1\n",
    "\n",
    "def get_sample_rate(file_path: Path) -> int:\n",
    "    \"\"\"\n",
    "    Use ffprobe to get the sample rate (in Hz) from the first audio stream.\n",
    "    Returns the sample rate as an integer, or -1 if not available.\n",
    "    \"\"\"\n",
    "    ffprobe_cmd = [\n",
    "        \"ffprobe\",\n",
    "        \"-v\", \"error\",\n",
    "        \"-select_streams\", \"a:0\",\n",
    "        \"-show_entries\", \"stream=sample_rate\",\n",
    "        \"-of\", \"default=noprint_wrappers=1:nokey=1\",\n",
    "        str(file_path)\n",
    "    ]\n",
    "    try:\n",
    "        output = subprocess.check_output(ffprobe_cmd, stderr=subprocess.DEVNULL).strip()\n",
    "        return int(output.decode(\"utf-8\"))\n",
    "    except subprocess.CalledProcessError:\n",
    "        return -1\n",
    "\n",
    "def find_min_max_metadata(folder: Path):\n",
    "    \"\"\"\n",
    "    Iterates over all files in the provided folder (assumed to be audio files)\n",
    "    and tracks the minimum and maximum bitrate as well as the minimum and maximum\n",
    "    sample rate, printing the respective file names and values.\n",
    "    \"\"\"\n",
    "    min_bitrate = None\n",
    "    max_bitrate = None\n",
    "    min_bitrate_file = None\n",
    "    max_bitrate_file = None\n",
    "    \n",
    "    min_sample_rate = None\n",
    "    max_sample_rate = None\n",
    "    min_sample_file = None\n",
    "    max_sample_file = None\n",
    "    \n",
    "    for file in folder.iterdir():\n",
    "        if file.is_file():\n",
    "            bitrate = get_bitrate(file)\n",
    "            sample_rate = get_sample_rate(file)\n",
    "            # Process bitrate if valid (> 0)\n",
    "            if bitrate > 0:\n",
    "                if min_bitrate is None or bitrate < min_bitrate:\n",
    "                    min_bitrate = bitrate\n",
    "                    min_bitrate_file = file\n",
    "                if max_bitrate is None or bitrate > max_bitrate:\n",
    "                    max_bitrate = bitrate\n",
    "                    max_bitrate_file = file\n",
    "            # Process sample rate if valid (> 0)\n",
    "            if sample_rate > 0:\n",
    "                if min_sample_rate is None or sample_rate < min_sample_rate:\n",
    "                    min_sample_rate = sample_rate\n",
    "                    min_sample_file = file\n",
    "                if max_sample_rate is None or sample_rate > max_sample_rate:\n",
    "                    max_sample_rate = sample_rate\n",
    "                    max_sample_file = file\n",
    "\n",
    "    print(\"Bitrate (bps):\")\n",
    "    if min_bitrate is not None and max_bitrate is not None:\n",
    "        print(f\"  Minimum bitrate: {min_bitrate} bps (File: {min_bitrate_file})\")\n",
    "        print(f\"  Maximum bitrate: {max_bitrate} bps (File: {max_bitrate_file})\")\n",
    "    else:\n",
    "        print(\"  No valid bitrate data found.\")\n",
    "    \n",
    "    print(\"\\nSample Rate (Hz):\")\n",
    "    if min_sample_rate is not None and max_sample_rate is not None:\n",
    "        print(f\"  Minimum sample rate: {min_sample_rate} Hz (File: {min_sample_file})\")\n",
    "        print(f\"  Maximum sample rate: {max_sample_rate} Hz (File: {max_sample_file})\")\n",
    "    else:\n",
    "        print(\"  No valid sample rate data found.\")\n",
    "\n",
    "# Define the folder path (make sure this folder contains only audio files)\n",
    "folder_path = Path(\"/nas/longleaf/home/tis/wd/V2Music/preprocessing/data/audio\")\n",
    "\n",
    "# Execute the metadata extraction and print the results.\n",
    "find_min_max_metadata(folder_path)"
   ]
  },
  {
   "cell_type": "code",
   "execution_count": 2,
   "id": "057f7ac8",
   "metadata": {},
   "outputs": [
    {
     "ename": "NameError",
     "evalue": "name 'get_filesize' is not defined",
     "output_type": "error",
     "traceback": [
      "\u001b[0;31m---------------------------------------------------------------------------\u001b[0m",
      "\u001b[0;31mNameError\u001b[0m                                 Traceback (most recent call last)",
      "Cell \u001b[0;32mIn[2], line 1\u001b[0m\n\u001b[0;32m----> 1\u001b[0m \u001b[38;5;28mprint\u001b[39m(\u001b[43mget_filesize\u001b[49m(audio_src))\n\u001b[1;32m      2\u001b[0m \u001b[38;5;28mprint\u001b[39m(get_filesize(\u001b[38;5;124m\"\u001b[39m\u001b[38;5;124m/nas/longleaf/home/tis/wd/V2Music/preprocessing/test_data/separated/mdx_extra/NvP8UQAQEdU/minus_vocals.webm\u001b[39m\u001b[38;5;124m\"\u001b[39m))\n",
      "\u001b[0;31mNameError\u001b[0m: name 'get_filesize' is not defined"
     ]
    }
   ],
   "source": [
    "print(get_filesize(audio_src))\n",
    "print(get_filesize(\"/nas/longleaf/home/tis/wd/V2Music/preprocessing/test_data/separated/mdx_extra/NvP8UQAQEdU/minus_vocals.webm\"))"
   ]
  },
  {
   "cell_type": "code",
   "execution_count": 8,
   "id": "84e0bcc6",
   "metadata": {},
   "outputs": [
    {
     "name": "stdout",
     "output_type": "stream",
     "text": [
      "Tue Apr 15 00:08:07 2025       \n",
      "+-----------------------------------------------------------------------------------------+\n",
      "| NVIDIA-SMI 570.124.06             Driver Version: 570.124.06     CUDA Version: 12.8     |\n",
      "|-----------------------------------------+------------------------+----------------------+\n",
      "| GPU  Name                 Persistence-M | Bus-Id          Disp.A | Volatile Uncorr. ECC |\n",
      "| Fan  Temp   Perf          Pwr:Usage/Cap |           Memory-Usage | GPU-Util  Compute M. |\n",
      "|                                         |                        |               MIG M. |\n",
      "|=========================================+========================+======================|\n",
      "|   0  NVIDIA L40S                    Off |   00000000:B6:00.0 Off |                    0 |\n",
      "| N/A   38C    P0             83W /  350W |    3577MiB /  46068MiB |      0%      Default |\n",
      "|                                         |                        |                  N/A |\n",
      "+-----------------------------------------+------------------------+----------------------+\n",
      "                                                                                         \n",
      "+-----------------------------------------------------------------------------------------+\n",
      "| Processes:                                                                              |\n",
      "|  GPU   GI   CI              PID   Type   Process name                        GPU Memory |\n",
      "|        ID   ID                                                               Usage      |\n",
      "|=========================================================================================|\n",
      "|    0   N/A  N/A         2291493      C   ...i/tis/demucs/.venv/bin/python       3568MiB |\n",
      "+-----------------------------------------------------------------------------------------+\n"
     ]
    }
   ],
   "source": [
    "!nvidia-smi"
   ]
  },
  {
   "cell_type": "code",
   "execution_count": null,
   "id": "7a4ef773",
   "metadata": {},
   "outputs": [
    {
     "name": "stdout",
     "output_type": "stream",
     "text": [
      "Selected model is a bag of 4 models. You will see that many progress bars per track.\n",
      "Separated tracks will be stored in /work/users/t/i/tis/V2Music/preprocessing/test_data/separated/mdx_extra\n",
      "Separating track /nas/longleaf/home/tis/wd/V2Music/preprocessing/test_data/audio/1eysYMU3h_I.webm\n"
     ]
    },
    {
     "name": "stderr",
     "output_type": "stream",
     "text": [
      "100%|█████████████████████████████████████████████████████████████████████████| 84.0/84.0 [00:00<00:00, 411.42seconds/s]\n",
      "100%|█████████████████████████████████████████████████████████████████████████| 84.0/84.0 [00:00<00:00, 393.27seconds/s]\n",
      "100%|█████████████████████████████████████████████████████████████████████████| 84.0/84.0 [00:00<00:00, 358.11seconds/s]\n",
      "100%|█████████████████████████████████████████████████████████████████████████| 84.0/84.0 [00:00<00:00, 363.47seconds/s]\n",
      "ffmpeg version 7.1.1 Copyright (c) 2000-2025 the FFmpeg developers\n",
      "  built with gcc 8 (GCC)\n",
      "  configuration: --prefix=/work/users/t/i/tis/ffmpeg/ffmpeg_build --enable-openssl --disable-shared --enable-static --extra-cflags=-I/work/users/t/i/tis/ffmpeg/openssl/include --extra-ldflags=-L/work/users/t/i/tis/ffmpeg/openssl/lib\n",
      "  libavutil      59. 39.100 / 59. 39.100\n",
      "  libavcodec     61. 19.101 / 61. 19.101\n",
      "  libavformat    61.  7.100 / 61.  7.100\n",
      "  libavdevice    61.  3.100 / 61.  3.100\n",
      "  libavfilter    10.  4.100 / 10.  4.100\n",
      "  libswscale      8.  3.100 /  8.  3.100\n",
      "  libswresample   5.  3.100 /  5.  3.100\n",
      "[aist#0:0/pcm_s16le @ 0x4085340] Guessed Channel Layout: stereo\n",
      "Input #0, wav, from '/tmp/tmpq8t1y3sn.wav':\n",
      "  Duration: 00:00:29.99, bitrate: 1411 kb/s\n",
      "  Stream #0:0: Audio: pcm_s16le ([1][0][0][0] / 0x0001), 44100 Hz, stereo, s16, 1411 kb/s\n",
      "Stream mapping:\n",
      "  Stream #0:0 -> #0:0 (pcm_s16le (native) -> pcm_s16le (native))\n",
      "Press [q] to stop, [?] for help\n",
      "Output #0, wav, to '/nas/longleaf/home/tis/wd/V2Music/preprocessing/test_data/separated/mdx_extra/1eysYMU3h_I_no_vocals.wav':\n",
      "  Metadata:\n",
      "    ISFT            : Lavf61.7.100\n",
      "  Stream #0:0: Audio: pcm_s16le ([1][0][0][0] / 0x0001), 192000 Hz, stereo, s16, 6144 kb/s\n",
      "      Metadata:\n",
      "        encoder         : Lavc61.19.101 pcm_s16le\n",
      "[out#0/wav @ 0x408d740] video:0KiB audio:22495KiB subtitle:0KiB other streams:0KiB global headers:0KiB muxing overhead: 0.000443%\n",
      "size=   22495KiB time=00:00:30.00 bitrate=6142.7kbits/s speed=29.9x    \n"
     ]
    },
    {
     "name": "stdout",
     "output_type": "stream",
     "text": [
      "Separating track /nas/longleaf/home/tis/wd/V2Music/preprocessing/test_data/audio/Hp01_AkITdg.webm\n"
     ]
    },
    {
     "name": "stderr",
     "output_type": "stream",
     "text": [
      "100%|█████████████████████████████████████████████████████████████████████████| 84.0/84.0 [00:00<00:00, 367.64seconds/s]\n",
      "100%|█████████████████████████████████████████████████████████████████████████| 84.0/84.0 [00:00<00:00, 377.62seconds/s]\n",
      "100%|█████████████████████████████████████████████████████████████████████████| 84.0/84.0 [00:00<00:00, 353.98seconds/s]\n",
      "100%|█████████████████████████████████████████████████████████████████████████| 84.0/84.0 [00:00<00:00, 390.95seconds/s]\n",
      "ffmpeg version 7.1.1 Copyright (c) 2000-2025 the FFmpeg developers\n",
      "  built with gcc 8 (GCC)\n",
      "  configuration: --prefix=/work/users/t/i/tis/ffmpeg/ffmpeg_build --enable-openssl --disable-shared --enable-static --extra-cflags=-I/work/users/t/i/tis/ffmpeg/openssl/include --extra-ldflags=-L/work/users/t/i/tis/ffmpeg/openssl/lib\n",
      "  libavutil      59. 39.100 / 59. 39.100\n",
      "  libavcodec     61. 19.101 / 61. 19.101\n",
      "  libavformat    61.  7.100 / 61.  7.100\n",
      "  libavdevice    61.  3.100 / 61.  3.100\n",
      "  libavfilter    10.  4.100 / 10.  4.100\n",
      "  libswscale      8.  3.100 /  8.  3.100\n",
      "  libswresample   5.  3.100 /  5.  3.100\n",
      "[aist#0:0/pcm_s16le @ 0x410c340] Guessed Channel Layout: stereo\n",
      "Input #0, wav, from '/tmp/tmpzqtzz6ot.wav':\n",
      "  Duration: 00:00:29.99, bitrate: 1411 kb/s\n",
      "  Stream #0:0: Audio: pcm_s16le ([1][0][0][0] / 0x0001), 44100 Hz, stereo, s16, 1411 kb/s\n",
      "Stream mapping:\n",
      "  Stream #0:0 -> #0:0 (pcm_s16le (native) -> pcm_s16le (native))\n",
      "Press [q] to stop, [?] for help\n",
      "Output #0, wav, to '/nas/longleaf/home/tis/wd/V2Music/preprocessing/test_data/separated/mdx_extra/Hp01_AkITdg_no_vocals.wav':\n",
      "  Metadata:\n",
      "    ISFT            : Lavf61.7.100\n",
      "  Stream #0:0: Audio: pcm_s16le ([1][0][0][0] / 0x0001), 192000 Hz, stereo, s16, 6144 kb/s\n",
      "      Metadata:\n",
      "        encoder         : Lavc61.19.101 pcm_s16le\n",
      "[out#0/wav @ 0x4114740] video:0KiB audio:22495KiB subtitle:0KiB other streams:0KiB global headers:0KiB muxing overhead: 0.000443%\n",
      "size=   22495KiB time=00:00:30.00 bitrate=6142.7kbits/s speed=18.6x    \n"
     ]
    },
    {
     "name": "stdout",
     "output_type": "stream",
     "text": [
      "Separating track /nas/longleaf/home/tis/wd/V2Music/preprocessing/test_data/audio/NvP8UQAQEdU.webm\n"
     ]
    },
    {
     "name": "stderr",
     "output_type": "stream",
     "text": [
      "100%|█████████████████████████████████████████████████████████████████████████| 84.0/84.0 [00:00<00:00, 392.08seconds/s]\n",
      "100%|█████████████████████████████████████████████████████████████████████████| 84.0/84.0 [00:00<00:00, 377.35seconds/s]\n",
      "100%|█████████████████████████████████████████████████████████████████████████| 84.0/84.0 [00:00<00:00, 374.66seconds/s]\n",
      "100%|█████████████████████████████████████████████████████████████████████████| 84.0/84.0 [00:00<00:00, 381.35seconds/s]\n",
      "ffmpeg version 7.1.1 Copyright (c) 2000-2025 the FFmpeg developers\n",
      "  built with gcc 8 (GCC)\n",
      "  configuration: --prefix=/work/users/t/i/tis/ffmpeg/ffmpeg_build --enable-openssl --disable-shared --enable-static --extra-cflags=-I/work/users/t/i/tis/ffmpeg/openssl/include --extra-ldflags=-L/work/users/t/i/tis/ffmpeg/openssl/lib\n",
      "  libavutil      59. 39.100 / 59. 39.100\n",
      "  libavcodec     61. 19.101 / 61. 19.101\n",
      "  libavformat    61.  7.100 / 61.  7.100\n",
      "  libavdevice    61.  3.100 / 61.  3.100\n",
      "  libavfilter    10.  4.100 / 10.  4.100\n",
      "  libswscale      8.  3.100 /  8.  3.100\n",
      "  libswresample   5.  3.100 /  5.  3.100\n",
      "[aist#0:0/pcm_s16le @ 0x3d05340] Guessed Channel Layout: stereo\n",
      "Input #0, wav, from '/tmp/tmpe6m8kjyd.wav':\n",
      "  Duration: 00:00:29.99, bitrate: 1411 kb/s\n",
      "  Stream #0:0: Audio: pcm_s16le ([1][0][0][0] / 0x0001), 44100 Hz, stereo, s16, 1411 kb/s\n",
      "Stream mapping:\n",
      "  Stream #0:0 -> #0:0 (pcm_s16le (native) -> pcm_s16le (native))\n",
      "Press [q] to stop, [?] for help\n",
      "Output #0, wav, to '/nas/longleaf/home/tis/wd/V2Music/preprocessing/test_data/separated/mdx_extra/NvP8UQAQEdU_no_vocals.wav':\n",
      "  Metadata:\n",
      "    ISFT            : Lavf61.7.100\n",
      "  Stream #0:0: Audio: pcm_s16le ([1][0][0][0] / 0x0001), 192000 Hz, stereo, s16, 6144 kb/s\n",
      "      Metadata:\n",
      "        encoder         : Lavc61.19.101 pcm_s16le\n",
      "[out#0/wav @ 0x3d0d740] video:0KiB audio:22495KiB subtitle:0KiB other streams:0KiB global headers:0KiB muxing overhead: 0.000443%\n",
      "size=   22495KiB time=00:00:30.00 bitrate=6142.7kbits/s speed=18.7x    \n"
     ]
    },
    {
     "name": "stdout",
     "output_type": "stream",
     "text": [
      "Separating track /nas/longleaf/home/tis/wd/V2Music/preprocessing/test_data/audio/Q847tRfANXU.webm\n"
     ]
    },
    {
     "name": "stderr",
     "output_type": "stream",
     "text": [
      "100%|█████████████████████████████████████████████████████████████████████████| 84.0/84.0 [00:00<00:00, 383.53seconds/s]\n",
      "100%|█████████████████████████████████████████████████████████████████████████| 84.0/84.0 [00:00<00:00, 376.85seconds/s]\n",
      "100%|█████████████████████████████████████████████████████████████████████████| 84.0/84.0 [00:00<00:00, 375.37seconds/s]\n",
      "100%|█████████████████████████████████████████████████████████████████████████| 84.0/84.0 [00:00<00:00, 383.06seconds/s]\n",
      "ffmpeg version 7.1.1 Copyright (c) 2000-2025 the FFmpeg developers\n",
      "  built with gcc 8 (GCC)\n",
      "  configuration: --prefix=/work/users/t/i/tis/ffmpeg/ffmpeg_build --enable-openssl --disable-shared --enable-static --extra-cflags=-I/work/users/t/i/tis/ffmpeg/openssl/include --extra-ldflags=-L/work/users/t/i/tis/ffmpeg/openssl/lib\n",
      "  libavutil      59. 39.100 / 59. 39.100\n",
      "  libavcodec     61. 19.101 / 61. 19.101\n",
      "  libavformat    61.  7.100 / 61.  7.100\n",
      "  libavdevice    61.  3.100 / 61.  3.100\n",
      "  libavfilter    10.  4.100 / 10.  4.100\n",
      "  libswscale      8.  3.100 /  8.  3.100\n",
      "  libswresample   5.  3.100 /  5.  3.100\n",
      "[aist#0:0/pcm_s16le @ 0x3cb9340] Guessed Channel Layout: stereo\n",
      "Input #0, wav, from '/tmp/tmpsiu5eajv.wav':\n",
      "  Duration: 00:00:29.99, bitrate: 1411 kb/s\n",
      "  Stream #0:0: Audio: pcm_s16le ([1][0][0][0] / 0x0001), 44100 Hz, stereo, s16, 1411 kb/s\n",
      "Stream mapping:\n",
      "  Stream #0:0 -> #0:0 (pcm_s16le (native) -> pcm_s16le (native))\n",
      "Press [q] to stop, [?] for help\n",
      "Output #0, wav, to '/nas/longleaf/home/tis/wd/V2Music/preprocessing/test_data/separated/mdx_extra/Q847tRfANXU_no_vocals.wav':\n",
      "  Metadata:\n",
      "    ISFT            : Lavf61.7.100\n",
      "  Stream #0:0: Audio: pcm_s16le ([1][0][0][0] / 0x0001), 192000 Hz, stereo, s16, 6144 kb/s\n",
      "      Metadata:\n",
      "        encoder         : Lavc61.19.101 pcm_s16le\n",
      "[out#0/wav @ 0x3cc1740] video:0KiB audio:22495KiB subtitle:0KiB other streams:0KiB global headers:0KiB muxing overhead: 0.000443%\n",
      "size=   22495KiB time=00:00:30.00 bitrate=6142.7kbits/s speed=18.5x    \n"
     ]
    },
    {
     "name": "stdout",
     "output_type": "stream",
     "text": [
      "Separating track /nas/longleaf/home/tis/wd/V2Music/preprocessing/test_data/audio/W-KTCowRGqw.webm\n"
     ]
    },
    {
     "name": "stderr",
     "output_type": "stream",
     "text": [
      "100%|█████████████████████████████████████████████████████████████████████████| 84.0/84.0 [00:00<00:00, 390.81seconds/s]\n",
      "100%|█████████████████████████████████████████████████████████████████████████| 84.0/84.0 [00:00<00:00, 379.08seconds/s]\n",
      "100%|█████████████████████████████████████████████████████████████████████████| 84.0/84.0 [00:00<00:00, 382.25seconds/s]\n",
      "100%|█████████████████████████████████████████████████████████████████████████| 84.0/84.0 [00:00<00:00, 385.70seconds/s]\n",
      "ffmpeg version 7.1.1 Copyright (c) 2000-2025 the FFmpeg developers\n",
      "  built with gcc 8 (GCC)\n",
      "  configuration: --prefix=/work/users/t/i/tis/ffmpeg/ffmpeg_build --enable-openssl --disable-shared --enable-static --extra-cflags=-I/work/users/t/i/tis/ffmpeg/openssl/include --extra-ldflags=-L/work/users/t/i/tis/ffmpeg/openssl/lib\n",
      "  libavutil      59. 39.100 / 59. 39.100\n",
      "  libavcodec     61. 19.101 / 61. 19.101\n",
      "  libavformat    61.  7.100 / 61.  7.100\n",
      "  libavdevice    61.  3.100 / 61.  3.100\n",
      "  libavfilter    10.  4.100 / 10.  4.100\n",
      "  libswscale      8.  3.100 /  8.  3.100\n",
      "  libswresample   5.  3.100 /  5.  3.100\n",
      "[aist#0:0/pcm_s16le @ 0x4871340] Guessed Channel Layout: stereo\n",
      "Input #0, wav, from '/tmp/tmprzcv5wtg.wav':\n",
      "  Duration: 00:00:29.99, bitrate: 1411 kb/s\n",
      "  Stream #0:0: Audio: pcm_s16le ([1][0][0][0] / 0x0001), 44100 Hz, stereo, s16, 1411 kb/s\n",
      "Stream mapping:\n",
      "  Stream #0:0 -> #0:0 (pcm_s16le (native) -> pcm_s16le (native))\n",
      "Press [q] to stop, [?] for help\n",
      "Output #0, wav, to '/nas/longleaf/home/tis/wd/V2Music/preprocessing/test_data/separated/mdx_extra/W-KTCowRGqw_no_vocals.wav':\n",
      "  Metadata:\n",
      "    ISFT            : Lavf61.7.100\n",
      "  Stream #0:0: Audio: pcm_s16le ([1][0][0][0] / 0x0001), 192000 Hz, stereo, s16, 6144 kb/s\n",
      "      Metadata:\n",
      "        encoder         : Lavc61.19.101 pcm_s16le\n",
      "[out#0/wav @ 0x4879740] video:0KiB audio:22495KiB subtitle:0KiB other streams:0KiB global headers:0KiB muxing overhead: 0.000443%\n",
      "size=   22495KiB time=00:00:30.00 bitrate=6142.7kbits/s speed=18.6x    \n"
     ]
    }
   ],
   "source": [
    "\n",
    "import demucs.separate\n",
    "out_path = '/nas/longleaf/home/tis/wd/V2Music/preprocessing/test_data/separated'\n",
    "#demucs.separate.main([\"--two-stems\", \"vocals\", \"--other-method\", \"minus\", \"-n\", \"mdx_extra\",\"--filename\", \"{track}.{ext}\", \"-o\", out_path, audio_src])\n",
    "demucs.separate.main([\n",
    "    \"--two-stems\", \"vocals\",\n",
    "   # \"--other-method\", \"minus\",\n",
    "    \"-n\", \"mdx_extra\",\n",
    "    \"--filename\", \"{track}_{stem}.{ext}\",\n",
    "    \"-o\", out_path,\n",
    "    *map(str, audio_files[0:5])  # Convert each Path to a string\n",
    "])"
   ]
  },
  {
   "cell_type": "code",
   "execution_count": 6,
   "id": "fb8e371d",
   "metadata": {},
   "outputs": [
    {
     "data": {
      "text/plain": [
       "{'single': {'0d19c1c6': 'https://dl.fbaipublicfiles.com/demucs/mdx_final/0d19c1c6-0f06f20e.th',\n",
       "  '5d2d6c55': 'https://dl.fbaipublicfiles.com/demucs/mdx_final/5d2d6c55-db83574e.th',\n",
       "  '7d865c68': 'https://dl.fbaipublicfiles.com/demucs/mdx_final/7d865c68-3d5dd56b.th',\n",
       "  '7ecf8ec1': 'https://dl.fbaipublicfiles.com/demucs/mdx_final/7ecf8ec1-70f50cc9.th',\n",
       "  'a1d90b5c': 'https://dl.fbaipublicfiles.com/demucs/mdx_final/a1d90b5c-ae9d2452.th',\n",
       "  'c511e2ab': 'https://dl.fbaipublicfiles.com/demucs/mdx_final/c511e2ab-fe698775.th',\n",
       "  'cfa93e08': 'https://dl.fbaipublicfiles.com/demucs/mdx_final/cfa93e08-61801ae1.th',\n",
       "  'e51eebcc': 'https://dl.fbaipublicfiles.com/demucs/mdx_final/e51eebcc-c1b80bdd.th',\n",
       "  '6b9c2ca1': 'https://dl.fbaipublicfiles.com/demucs/mdx_final/6b9c2ca1-3fd82607.th',\n",
       "  'b72baf4e': 'https://dl.fbaipublicfiles.com/demucs/mdx_final/b72baf4e-8778635e.th',\n",
       "  '42e558d4': 'https://dl.fbaipublicfiles.com/demucs/mdx_final/42e558d4-196e0e1b.th',\n",
       "  '305bc58f': 'https://dl.fbaipublicfiles.com/demucs/mdx_final/305bc58f-18378783.th',\n",
       "  '14fc6a69': 'https://dl.fbaipublicfiles.com/demucs/mdx_final/14fc6a69-a89dd0ee.th',\n",
       "  '464b36d7': 'https://dl.fbaipublicfiles.com/demucs/mdx_final/464b36d7-e5a9386e.th',\n",
       "  '7fd6ef75': 'https://dl.fbaipublicfiles.com/demucs/mdx_final/7fd6ef75-a905dd85.th',\n",
       "  '83fc094f': 'https://dl.fbaipublicfiles.com/demucs/mdx_final/83fc094f-4a16d450.th',\n",
       "  '1ef250f1': 'https://dl.fbaipublicfiles.com/demucs/mdx_final/1ef250f1-592467ce.th',\n",
       "  '902315c2': 'https://dl.fbaipublicfiles.com/demucs/mdx_final/902315c2-b39ce9c9.th',\n",
       "  '9a6b4851': 'https://dl.fbaipublicfiles.com/demucs/mdx_final/9a6b4851-03af0aa6.th',\n",
       "  'fa0cb7f9': 'https://dl.fbaipublicfiles.com/demucs/mdx_final/fa0cb7f9-100d8bf4.th',\n",
       "  '955717e8': 'https://dl.fbaipublicfiles.com/demucs/hybrid_transformer/955717e8-8726e21a.th',\n",
       "  'f7e0c4bc': 'https://dl.fbaipublicfiles.com/demucs/hybrid_transformer/f7e0c4bc-ba3fe64a.th',\n",
       "  'd12395a8': 'https://dl.fbaipublicfiles.com/demucs/hybrid_transformer/d12395a8-e57c48e6.th',\n",
       "  '92cfc3b6': 'https://dl.fbaipublicfiles.com/demucs/hybrid_transformer/92cfc3b6-ef3bcb9c.th',\n",
       "  '04573f0d': 'https://dl.fbaipublicfiles.com/demucs/hybrid_transformer/04573f0d-f3cf25b2.th',\n",
       "  '75fc33f5': 'https://dl.fbaipublicfiles.com/demucs/hybrid_transformer/75fc33f5-1941ce65.th',\n",
       "  '5c90dfd2': 'https://dl.fbaipublicfiles.com/demucs/hybrid_transformer/5c90dfd2-34c22ccb.th'},\n",
       " 'bag': {'hdemucs_mmi': PosixPath('/work/users/t/i/tis/demucs/demucs/remote/hdemucs_mmi.yaml'),\n",
       "  'htdemucs': PosixPath('/work/users/t/i/tis/demucs/demucs/remote/htdemucs.yaml'),\n",
       "  'htdemucs_6s': PosixPath('/work/users/t/i/tis/demucs/demucs/remote/htdemucs_6s.yaml'),\n",
       "  'htdemucs_ft': PosixPath('/work/users/t/i/tis/demucs/demucs/remote/htdemucs_ft.yaml'),\n",
       "  'mdx': PosixPath('/work/users/t/i/tis/demucs/demucs/remote/mdx.yaml'),\n",
       "  'mdx_extra': PosixPath('/work/users/t/i/tis/demucs/demucs/remote/mdx_extra.yaml'),\n",
       "  'mdx_extra_q': PosixPath('/work/users/t/i/tis/demucs/demucs/remote/mdx_extra_q.yaml'),\n",
       "  'mdx_q': PosixPath('/work/users/t/i/tis/demucs/demucs/remote/mdx_q.yaml'),\n",
       "  'repro_mdx_a': PosixPath('/work/users/t/i/tis/demucs/demucs/remote/repro_mdx_a.yaml'),\n",
       "  'repro_mdx_a_hybrid_only': PosixPath('/work/users/t/i/tis/demucs/demucs/remote/repro_mdx_a_hybrid_only.yaml'),\n",
       "  'repro_mdx_a_time_only': PosixPath('/work/users/t/i/tis/demucs/demucs/remote/repro_mdx_a_time_only.yaml')}}"
      ]
     },
     "execution_count": 6,
     "metadata": {},
     "output_type": "execute_result"
    }
   ],
   "source": [
    "demucs.separate.list_models()"
   ]
  },
  {
   "cell_type": "code",
   "execution_count": 4,
   "id": "c5db03d0",
   "metadata": {},
   "outputs": [
    {
     "name": "stdout",
     "output_type": "stream",
     "text": [
      "['/work/users/t/i/tis/.cache/python/cpython-3.9.21-linux-x86_64-gnu/lib/python39.zip', '/work/users/t/i/tis/.cache/python/cpython-3.9.21-linux-x86_64-gnu/lib/python3.9', '/work/users/t/i/tis/.cache/python/cpython-3.9.21-linux-x86_64-gnu/lib/python3.9/lib-dynload', '', '/work/users/t/i/tis/demucs/.venv/lib/python3.9/site-packages']\n"
     ]
    }
   ],
   "source": [
    "import sys\n",
    "print(sys.path)"
   ]
  },
  {
   "cell_type": "code",
   "execution_count": 4,
   "id": "39ccabf1",
   "metadata": {},
   "outputs": [
    {
     "name": "stdout",
     "output_type": "stream",
     "text": [
      "Origin: tensor([[ 9.0949e-13,  9.0949e-13,  9.0949e-13,  ...,  7.5741e-02,\n",
      "          7.6514e-02,  7.8899e-02],\n",
      "        [ 9.0949e-13,  9.0949e-13,  9.0949e-13,  ...,  3.1223e-03,\n",
      "         -3.5399e-03, -4.6720e-03]])\n",
      "Separated: {'drums': tensor([[-0.0001, -0.0003,  0.0001,  ..., -0.0122, -0.0016, -0.0173],\n",
      "        [-0.0001, -0.0003,  0.0001,  ..., -0.0141, -0.0068, -0.0159]]), 'bass': tensor([[-0.0001,  0.0001,  0.0002,  ...,  0.0015, -0.0018, -0.0028],\n",
      "        [-0.0001,  0.0001,  0.0002,  ...,  0.0009, -0.0012,  0.0022]]), 'other': tensor([[-9.4694e-05,  6.3471e-05,  2.5396e-04,  ...,  7.7087e-02,\n",
      "          7.2026e-02,  6.8448e-02],\n",
      "        [-4.1497e-05,  9.8705e-05,  2.6506e-04,  ...,  1.5013e-02,\n",
      "          1.0944e-02,  1.2071e-02]]), 'vocals': tensor([[ 2.1216e-05,  1.7958e-04,  3.6497e-04,  ...,  1.7859e-03,\n",
      "          1.2953e-03,  1.0898e-03],\n",
      "        [ 3.5653e-05,  1.8994e-04,  4.0092e-04,  ..., -3.1740e-04,\n",
      "         -7.6794e-04, -7.4759e-04]])}\n"
     ]
    },
    {
     "ename": "ValueError",
     "evalue": "too many values to unpack (expected 2)",
     "output_type": "error",
     "traceback": [
      "\u001b[0;31m---------------------------------------------------------------------------\u001b[0m",
      "\u001b[0;31mValueError\u001b[0m                                Traceback (most recent call last)",
      "Cell \u001b[0;32mIn[4], line 6\u001b[0m\n\u001b[1;32m      4\u001b[0m \u001b[38;5;28mprint\u001b[39m(\u001b[38;5;124mf\u001b[39m\u001b[38;5;124m\"\u001b[39m\u001b[38;5;124mOrigin: \u001b[39m\u001b[38;5;132;01m{\u001b[39;00morigin\u001b[38;5;132;01m}\u001b[39;00m\u001b[38;5;124m\"\u001b[39m)\n\u001b[1;32m      5\u001b[0m \u001b[38;5;28mprint\u001b[39m(\u001b[38;5;124mf\u001b[39m\u001b[38;5;124m\"\u001b[39m\u001b[38;5;124mSeparated: \u001b[39m\u001b[38;5;132;01m{\u001b[39;00mseparated\u001b[38;5;132;01m}\u001b[39;00m\u001b[38;5;124m\"\u001b[39m)    \n\u001b[0;32m----> 6\u001b[0m \u001b[38;5;28;01mfor\u001b[39;00m file, sources \u001b[38;5;129;01min\u001b[39;00m separated:\n\u001b[1;32m      7\u001b[0m     \u001b[38;5;28mprint\u001b[39m(\u001b[38;5;124mf\u001b[39m\u001b[38;5;124m\"\u001b[39m\u001b[38;5;124mFile: \u001b[39m\u001b[38;5;132;01m{\u001b[39;00mfile\u001b[38;5;132;01m}\u001b[39;00m\u001b[38;5;124m, Sources: \u001b[39m\u001b[38;5;132;01m{\u001b[39;00msources\u001b[38;5;132;01m}\u001b[39;00m\u001b[38;5;124m\"\u001b[39m)\n\u001b[1;32m      8\u001b[0m     \u001b[38;5;28;01mfor\u001b[39;00m stem, source \u001b[38;5;129;01min\u001b[39;00m sources\u001b[38;5;241m.\u001b[39mitems():\n",
      "\u001b[0;31mValueError\u001b[0m: too many values to unpack (expected 2)"
     ]
    }
   ],
   "source": [
    "import demucs.api\n",
    "separator = demucs.api.Separator(model=\"mdx_extra\")\n",
    "origin, separated = separator.separate_audio_file(audio_src)\n",
    "print(f\"Origin: {origin}\")\n",
    "print(f\"Separated: {separated}\")    \n",
    "for file, sources in separated:\n",
    "    print(f\"File: {file}, Sources: {sources}\")\n",
    "    for stem, source in sources.items():\n",
    "        print(f\"Stem: {stem}, Source: {source}\")\n",
    "        #demucs.api.save_audio(source, f\"{stem}_{file}\", samplerate=separator.samplerate)"
   ]
  },
  {
   "cell_type": "code",
   "execution_count": null,
   "id": "8c77877d-5491-4d03-8fc3-e86f6f9fa668",
   "metadata": {},
   "outputs": [],
   "source": [
    "!spleeter separate -h"
   ]
  },
  {
   "cell_type": "code",
   "execution_count": 13,
   "id": "de8fa64f-28f1-4c00-a0e4-469ee5b79b67",
   "metadata": {},
   "outputs": [
    {
     "name": "stdout",
     "output_type": "stream",
     "text": [
      "/bin/bash: spleeter: command not found\n"
     ]
    }
   ],
   "source": [
    "#!spleeter separate -o output/ audio_src\n",
    "!spleeter separate -p spleeter:2stems audio_src"
   ]
  },
  {
   "cell_type": "code",
   "execution_count": null,
   "id": "bbd1e2cf-29a5-4be2-8652-e0a93b73170e",
   "metadata": {},
   "outputs": [],
   "source": [
    "Audio('output/audio_example/accompaniment.wav')"
   ]
  },
  {
   "cell_type": "code",
   "execution_count": null,
   "id": "ac8332c5-5d76-4748-9d18-9c373db80b81",
   "metadata": {},
   "outputs": [],
   "source": [
    "Audio('output/audio_example/vocals.wav')"
   ]
  },
  {
   "cell_type": "markdown",
   "id": "487aaea4",
   "metadata": {},
   "source": [
    "## Encodec"
   ]
  },
  {
   "cell_type": "code",
   "execution_count": 1,
   "id": "7575f390",
   "metadata": {},
   "outputs": [
    {
     "data": {
      "application/vnd.jupyter.widget-view+json": {
       "model_id": "bb24598067d845efaef4b0f2755dae18",
       "version_major": 2,
       "version_minor": 0
      },
      "text/plain": [
       "config.json:   0%|          | 0.00/803 [00:00<?, ?B/s]"
      ]
     },
     "metadata": {},
     "output_type": "display_data"
    },
    {
     "data": {
      "application/vnd.jupyter.widget-view+json": {
       "model_id": "376882cbbc2646879ca3e1b39e37ebd6",
       "version_major": 2,
       "version_minor": 0
      },
      "text/plain": [
       "model.safetensors:   0%|          | 0.00/76.3M [00:00<?, ?B/s]"
      ]
     },
     "metadata": {},
     "output_type": "display_data"
    },
    {
     "data": {
      "application/vnd.jupyter.widget-view+json": {
       "model_id": "bce17b8f0aca40ac9049cee41de9c040",
       "version_major": 2,
       "version_minor": 0
      },
      "text/plain": [
       "preprocessor_config.json:   0%|          | 0.00/231 [00:00<?, ?B/s]"
      ]
     },
     "metadata": {},
     "output_type": "display_data"
    },
    {
     "name": "stderr",
     "output_type": "stream",
     "text": [
      "Using a slow image processor as `use_fast` is unset and a slow processor was saved with this model. `use_fast=True` will be the default behavior in v4.52, even if the model was saved with a slow processor. This will result in minor differences in outputs. You'll still be able to use a slow processor with `use_fast=False`.\n"
     ]
    }
   ],
   "source": [
    "from datasets import load_dataset, Audio\n",
    "from transformers import EncodecModel, AutoProcessor\n",
    "\n",
    "# load the model + processor (for pre-processing the audio)\n",
    "model = EncodecModel.from_pretrained(\"facebook/encodec_48khz\")\n",
    "processor = AutoProcessor.from_pretrained(\"facebook/encodec_48khz\")"
   ]
  },
  {
   "cell_type": "code",
   "execution_count": 3,
   "id": "90e7dfbc",
   "metadata": {},
   "outputs": [
    {
     "name": "stdout",
     "output_type": "stream",
     "text": [
      "19169\n"
     ]
    }
   ],
   "source": [
    "audio_dir = Path('/nas/longleaf/home/tis/wd/V2Music/preprocessing/bg_audio/mdx_extra')\n",
    "audio_files = list(audio_dir.glob(\"*.wav\"))\n",
    "print(len(audio_files))"
   ]
  },
  {
   "cell_type": "code",
   "execution_count": 22,
   "id": "d6346f2a",
   "metadata": {},
   "outputs": [
    {
     "name": "stdout",
     "output_type": "stream",
     "text": [
      "Tue Apr 15 10:31:49 2025       \n",
      "+-----------------------------------------------------------------------------------------+\n",
      "| NVIDIA-SMI 570.124.06             Driver Version: 570.124.06     CUDA Version: 12.8     |\n",
      "|-----------------------------------------+------------------------+----------------------+\n",
      "| GPU  Name                 Persistence-M | Bus-Id          Disp.A | Volatile Uncorr. ECC |\n",
      "| Fan  Temp   Perf          Pwr:Usage/Cap |           Memory-Usage | GPU-Util  Compute M. |\n",
      "|                                         |                        |               MIG M. |\n",
      "|=========================================+========================+======================|\n",
      "|   0  NVIDIA L40                     Off |   00000000:E3:00.0 Off |                    0 |\n",
      "| N/A   45C    P0             83W /  300W |   12201MiB /  46068MiB |      0%      Default |\n",
      "|                                         |                        |                  N/A |\n",
      "+-----------------------------------------+------------------------+----------------------+\n",
      "                                                                                         \n",
      "+-----------------------------------------------------------------------------------------+\n",
      "| Processes:                                                                              |\n",
      "|  GPU   GI   CI              PID   Type   Process name                        GPU Memory |\n",
      "|        ID   ID                                                               Usage      |\n",
      "|=========================================================================================|\n",
      "|    0   N/A  N/A          837252      C   .../tis/V2Music/.venv/bin/python      12192MiB |\n",
      "+-----------------------------------------------------------------------------------------+\n"
     ]
    }
   ],
   "source": [
    "!nvidia-smi"
   ]
  },
  {
   "cell_type": "code",
   "execution_count": 2,
   "id": "4f34ada1",
   "metadata": {},
   "outputs": [
    {
     "name": "stdout",
     "output_type": "stream",
     "text": [
      "Reading file: /nas/longleaf/home/tis/wd/V2Music/preprocessing/bg_audio/mdx_extra/--7Nv4RYjd8_no_vocals.wav\n",
      "(2, 1440009)\n",
      "Reading file: /nas/longleaf/home/tis/wd/V2Music/preprocessing/bg_audio/mdx_extra/--foBg2jWzk_no_vocals.wav\n",
      "(2, 1440009)\n",
      "Saved processed audio to: /nas/longleaf/home/tis/wd/V2Music/preprocessing/bg_audio/mdx_extra/encodec/--7Nv4RYjd8_no_vocals.wav\n",
      "Saved processed audio to: /nas/longleaf/home/tis/wd/V2Music/preprocessing/bg_audio/mdx_extra/encodec/--foBg2jWzk_no_vocals.wav\n",
      "Reading file: /nas/longleaf/home/tis/wd/V2Music/preprocessing/bg_audio/mdx_extra/--gdB-nnQkU_no_vocals.wav\n",
      "(2, 1439689)\n",
      "Reading file: /nas/longleaf/home/tis/wd/V2Music/preprocessing/bg_audio/mdx_extra/--iC9GzoZEU_no_vocals.wav\n",
      "(2, 1439689)\n",
      "Saved processed audio to: /nas/longleaf/home/tis/wd/V2Music/preprocessing/bg_audio/mdx_extra/encodec/--gdB-nnQkU_no_vocals.wav\n",
      "Saved processed audio to: /nas/longleaf/home/tis/wd/V2Music/preprocessing/bg_audio/mdx_extra/encodec/--iC9GzoZEU_no_vocals.wav\n"
     ]
    }
   ],
   "source": [
    "import os\n",
    "import glob\n",
    "import numpy as np\n",
    "import soundfile as sf\n",
    "import librosa\n",
    "import torch\n",
    "from transformers import EncodecModel, AutoProcessor\n",
    "\n",
    "# Load the model and processor.\n",
    "model = EncodecModel.from_pretrained(\"facebook/encodec_48khz\")\n",
    "processor = AutoProcessor.from_pretrained(\"facebook/encodec_48khz\")\n",
    "target_sr = processor.sampling_rate  # Typically 48000 Hz\n",
    "\n",
    "# Path to your directory containing the WAV files.\n",
    "data_dir = \"/nas/longleaf/home/tis/wd/V2Music/preprocessing/bg_audio/mdx_extra\"\n",
    "wav_files = glob.glob(os.path.join(data_dir, \"*.wav\"))\n",
    "if not wav_files:\n",
    "    print(\"No WAV files found in the directory:\", data_dir)\n",
    "    exit(1)\n",
    "\n",
    "batch_size = 2\n",
    "\n",
    "# Move model to GPU if available.\n",
    "device = torch.device(\"cuda\" if torch.cuda.is_available() else \"cpu\")\n",
    "model.to(device)\n",
    "\n",
    "# Process files in batches.\n",
    "#for i in range(0, len(wav_files), batch_size):\n",
    "for i in range(0, 4, batch_size):\n",
    "    batch_files = wav_files[i:i+batch_size]\n",
    "    audio_list = []\n",
    "    file_names = []\n",
    "    \n",
    "    # Preprocess each audio file in the current batch.\n",
    "    for wav_file in batch_files:\n",
    "        print(\"Reading file:\", wav_file)\n",
    "        audio, sr = sf.read(wav_file)\n",
    "        \n",
    "        # ----- Ensure stereo audio with correct shape (2, num_samples) -----\n",
    "        if audio.ndim == 1:\n",
    "            audio = np.vstack((audio, audio))\n",
    "        elif audio.ndim == 2:\n",
    "            if audio.shape[1] == 2:\n",
    "                audio = audio.T\n",
    "            elif audio.shape[1] > 2:\n",
    "                audio = audio[:, :2].T\n",
    "            else:\n",
    "                audio = np.vstack((audio[:, 0], audio[:, 0]))\n",
    "        else:\n",
    "            raise ValueError(\"Unsupported audio dimensions for file: \" + wav_file)\n",
    "        \n",
    "        # ----- Resample if needed -----\n",
    "        if sr != target_sr:\n",
    "            resampled_channels = []\n",
    "            for ch in range(audio.shape[0]):\n",
    "                resampled = librosa.resample(audio[ch], orig_sr=sr, target_sr=target_sr)\n",
    "                resampled_channels.append(resampled)\n",
    "            audio = np.vstack(resampled_channels)\n",
    "        \n",
    "        audio_list.append(audio)\n",
    "        file_names.append(os.path.basename(wav_file))\n",
    "        print(audio_list[0].shape)\n",
    "    \n",
    "    # Batch Processing with the Processor and Model.\n",
    "    inputs = processor(\n",
    "        raw_audio=audio_list,\n",
    "        sampling_rate=target_sr,\n",
    "        padding=True,\n",
    "        return_tensors=\"pt\"\n",
    "    )\n",
    "    \n",
    "    # Move inputs to the same device as the model.\n",
    "    inputs = {key: value.to(device) for key, value in inputs.items()}\n",
    "    \n",
    "    with torch.no_grad():\n",
    "        outputs = model(inputs[\"input_values\"], padding_mask=inputs[\"padding_mask\"])\n",
    "        audio_values = outputs.audio_values\n",
    "\n",
    "    audio_values = audio_values.cpu().numpy()\n",
    "\n",
    "    output_dir = os.path.join(data_dir, \"encodec\")\n",
    "    os.makedirs(output_dir, exist_ok=True)\n",
    "\n",
    "    # Compute the valid lengths (per sample) using the padding mask.\n",
    "    valid_lengths = inputs[\"padding_mask\"].sum(dim=1)\n",
    "    for j, fname in enumerate(file_names):\n",
    "        valid_len = int(valid_lengths[j].item())\n",
    "        # Crop the output to its valid length (channels, valid_length).\n",
    "        output = audio_values[j, :, :valid_len]\n",
    "        # Transpose output to (valid_length, channels) for writing.\n",
    "        output = output.T\n",
    "        output_filename = os.path.join(output_dir, fname)\n",
    "        # Uncomment the line below to save the file.\n",
    "        sf.write(output_filename, output, target_sr)\n",
    "        print(\"Saved processed audio to:\", output_filename)"
   ]
  },
  {
   "cell_type": "code",
   "execution_count": null,
   "id": "37667cf2-8541-404a-80fe-2cfc239ac10d",
   "metadata": {},
   "outputs": [],
   "source": []
  }
 ],
 "metadata": {
  "kernelspec": {
   "display_name": "v2music",
   "language": "python",
   "name": "v2music"
  },
  "language_info": {
   "codemirror_mode": {
    "name": "ipython",
    "version": 3
   },
   "file_extension": ".py",
   "mimetype": "text/x-python",
   "name": "python",
   "nbconvert_exporter": "python",
   "pygments_lexer": "ipython3",
   "version": "3.12.9"
  }
 },
 "nbformat": 4,
 "nbformat_minor": 5
}
